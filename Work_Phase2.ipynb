{
 "cells": [
  {
   "cell_type": "code",
   "execution_count": 27,
   "metadata": {},
   "outputs": [],
   "source": [
    "import pandas as pd\n",
    "import numpy as np\n",
    "from sklearn import decomposition\n",
    "from sklearn.ensemble import RandomForestClassifier\n",
    "from sklearn.linear_model import LinearRegression, LogisticRegression\n",
    "from sklearn.model_selection import train_test_split\n",
    "from sklearn.metrics import accuracy_score, precision_score, recall_score, f1_score, confusion_matrix, precision_recall_curve\n",
    "from sklearn.neural_network import MLPClassifier\n",
    "from sklearn.preprocessing import StandardScaler\n",
    "from sklearn.svm import SVC\n",
    "\n",
    "import matplotlib.pyplot as plt"
   ]
  },
  {
   "cell_type": "code",
   "execution_count": 2,
   "metadata": {},
   "outputs": [
    {
     "data": {
      "text/html": [
       "<div>\n",
       "<style scoped>\n",
       "    .dataframe tbody tr th:only-of-type {\n",
       "        vertical-align: middle;\n",
       "    }\n",
       "\n",
       "    .dataframe tbody tr th {\n",
       "        vertical-align: top;\n",
       "    }\n",
       "\n",
       "    .dataframe thead th {\n",
       "        text-align: right;\n",
       "    }\n",
       "</style>\n",
       "<table border=\"1\" class=\"dataframe\">\n",
       "  <thead>\n",
       "    <tr style=\"text-align: right;\">\n",
       "      <th></th>\n",
       "      <th>grau_instrucao</th>\n",
       "      <th>nacionalidade</th>\n",
       "      <th>concorre_reeleicao</th>\n",
       "      <th>declara_bens</th>\n",
       "      <th>despesa_maxima_campanha</th>\n",
       "      <th>idade_data_posse</th>\n",
       "      <th>eleito</th>\n",
       "      <th>cor_raca_AMARELA</th>\n",
       "      <th>cor_raca_BRANCA</th>\n",
       "      <th>cor_raca_INDIGENA</th>\n",
       "      <th>...</th>\n",
       "      <th>cargo_1o SUPLENTE SENADOR</th>\n",
       "      <th>cargo_2o SUPLENTE SENADOR</th>\n",
       "      <th>cargo_DEPUTADO DISTRITAL</th>\n",
       "      <th>cargo_DEPUTADO ESTADUAL</th>\n",
       "      <th>cargo_DEPUTADO FEDERAL</th>\n",
       "      <th>cargo_GOVERNADOR</th>\n",
       "      <th>cargo_PREFEITO</th>\n",
       "      <th>cargo_PRESIDENTE</th>\n",
       "      <th>cargo_SENADOR</th>\n",
       "      <th>cargo_VEREADOR</th>\n",
       "    </tr>\n",
       "  </thead>\n",
       "  <tbody>\n",
       "    <tr>\n",
       "      <th>0</th>\n",
       "      <td>6</td>\n",
       "      <td>1</td>\n",
       "      <td>0</td>\n",
       "      <td>0</td>\n",
       "      <td>400000.0</td>\n",
       "      <td>45.0</td>\n",
       "      <td>0</td>\n",
       "      <td>0</td>\n",
       "      <td>0</td>\n",
       "      <td>0</td>\n",
       "      <td>...</td>\n",
       "      <td>0</td>\n",
       "      <td>0</td>\n",
       "      <td>0</td>\n",
       "      <td>1</td>\n",
       "      <td>0</td>\n",
       "      <td>0</td>\n",
       "      <td>0</td>\n",
       "      <td>0</td>\n",
       "      <td>0</td>\n",
       "      <td>0</td>\n",
       "    </tr>\n",
       "    <tr>\n",
       "      <th>1</th>\n",
       "      <td>8</td>\n",
       "      <td>1</td>\n",
       "      <td>0</td>\n",
       "      <td>1</td>\n",
       "      <td>1000000.0</td>\n",
       "      <td>50.0</td>\n",
       "      <td>0</td>\n",
       "      <td>0</td>\n",
       "      <td>1</td>\n",
       "      <td>0</td>\n",
       "      <td>...</td>\n",
       "      <td>0</td>\n",
       "      <td>0</td>\n",
       "      <td>0</td>\n",
       "      <td>1</td>\n",
       "      <td>0</td>\n",
       "      <td>0</td>\n",
       "      <td>0</td>\n",
       "      <td>0</td>\n",
       "      <td>0</td>\n",
       "      <td>0</td>\n",
       "    </tr>\n",
       "    <tr>\n",
       "      <th>2</th>\n",
       "      <td>8</td>\n",
       "      <td>1</td>\n",
       "      <td>0</td>\n",
       "      <td>1</td>\n",
       "      <td>690000.0</td>\n",
       "      <td>48.0</td>\n",
       "      <td>0</td>\n",
       "      <td>0</td>\n",
       "      <td>0</td>\n",
       "      <td>0</td>\n",
       "      <td>...</td>\n",
       "      <td>0</td>\n",
       "      <td>0</td>\n",
       "      <td>0</td>\n",
       "      <td>1</td>\n",
       "      <td>0</td>\n",
       "      <td>0</td>\n",
       "      <td>0</td>\n",
       "      <td>0</td>\n",
       "      <td>0</td>\n",
       "      <td>0</td>\n",
       "    </tr>\n",
       "    <tr>\n",
       "      <th>3</th>\n",
       "      <td>6</td>\n",
       "      <td>1</td>\n",
       "      <td>0</td>\n",
       "      <td>1</td>\n",
       "      <td>500000.0</td>\n",
       "      <td>39.0</td>\n",
       "      <td>0</td>\n",
       "      <td>0</td>\n",
       "      <td>0</td>\n",
       "      <td>0</td>\n",
       "      <td>...</td>\n",
       "      <td>0</td>\n",
       "      <td>0</td>\n",
       "      <td>0</td>\n",
       "      <td>1</td>\n",
       "      <td>0</td>\n",
       "      <td>0</td>\n",
       "      <td>0</td>\n",
       "      <td>0</td>\n",
       "      <td>0</td>\n",
       "      <td>0</td>\n",
       "    </tr>\n",
       "    <tr>\n",
       "      <th>4</th>\n",
       "      <td>8</td>\n",
       "      <td>1</td>\n",
       "      <td>0</td>\n",
       "      <td>0</td>\n",
       "      <td>500000.0</td>\n",
       "      <td>40.0</td>\n",
       "      <td>0</td>\n",
       "      <td>0</td>\n",
       "      <td>0</td>\n",
       "      <td>0</td>\n",
       "      <td>...</td>\n",
       "      <td>0</td>\n",
       "      <td>0</td>\n",
       "      <td>0</td>\n",
       "      <td>1</td>\n",
       "      <td>0</td>\n",
       "      <td>0</td>\n",
       "      <td>0</td>\n",
       "      <td>0</td>\n",
       "      <td>0</td>\n",
       "      <td>0</td>\n",
       "    </tr>\n",
       "  </tbody>\n",
       "</table>\n",
       "<p>5 rows × 309 columns</p>\n",
       "</div>"
      ],
      "text/plain": [
       "   grau_instrucao  nacionalidade  concorre_reeleicao  declara_bens  \\\n",
       "0               6              1                   0             0   \n",
       "1               8              1                   0             1   \n",
       "2               8              1                   0             1   \n",
       "3               6              1                   0             1   \n",
       "4               8              1                   0             0   \n",
       "\n",
       "   despesa_maxima_campanha  idade_data_posse  eleito  cor_raca_AMARELA  \\\n",
       "0                 400000.0              45.0       0                 0   \n",
       "1                1000000.0              50.0       0                 0   \n",
       "2                 690000.0              48.0       0                 0   \n",
       "3                 500000.0              39.0       0                 0   \n",
       "4                 500000.0              40.0       0                 0   \n",
       "\n",
       "   cor_raca_BRANCA  cor_raca_INDIGENA       ...        \\\n",
       "0                0                  0       ...         \n",
       "1                1                  0       ...         \n",
       "2                0                  0       ...         \n",
       "3                0                  0       ...         \n",
       "4                0                  0       ...         \n",
       "\n",
       "   cargo_1o SUPLENTE SENADOR  cargo_2o SUPLENTE SENADOR  \\\n",
       "0                          0                          0   \n",
       "1                          0                          0   \n",
       "2                          0                          0   \n",
       "3                          0                          0   \n",
       "4                          0                          0   \n",
       "\n",
       "   cargo_DEPUTADO DISTRITAL  cargo_DEPUTADO ESTADUAL  cargo_DEPUTADO FEDERAL  \\\n",
       "0                         0                        1                       0   \n",
       "1                         0                        1                       0   \n",
       "2                         0                        1                       0   \n",
       "3                         0                        1                       0   \n",
       "4                         0                        1                       0   \n",
       "\n",
       "   cargo_GOVERNADOR  cargo_PREFEITO  cargo_PRESIDENTE  cargo_SENADOR  \\\n",
       "0                 0               0                 0              0   \n",
       "1                 0               0                 0              0   \n",
       "2                 0               0                 0              0   \n",
       "3                 0               0                 0              0   \n",
       "4                 0               0                 0              0   \n",
       "\n",
       "   cargo_VEREADOR  \n",
       "0               0  \n",
       "1               0  \n",
       "2               0  \n",
       "3               0  \n",
       "4               0  \n",
       "\n",
       "[5 rows x 309 columns]"
      ]
     },
     "execution_count": 2,
     "metadata": {},
     "output_type": "execute_result"
    }
   ],
   "source": [
    "df_work = pd.read_csv('datasets/candidatos_work.csv', sep=';')\n",
    "df_work.drop(['composicao_legenda'],axis=1, inplace=True)\n",
    "df_work.head()"
   ]
  },
  {
   "cell_type": "code",
   "execution_count": 3,
   "metadata": {},
   "outputs": [
    {
     "data": {
      "text/html": [
       "<div>\n",
       "<style scoped>\n",
       "    .dataframe tbody tr th:only-of-type {\n",
       "        vertical-align: middle;\n",
       "    }\n",
       "\n",
       "    .dataframe tbody tr th {\n",
       "        vertical-align: top;\n",
       "    }\n",
       "\n",
       "    .dataframe thead th {\n",
       "        text-align: right;\n",
       "    }\n",
       "</style>\n",
       "<table border=\"1\" class=\"dataframe\">\n",
       "  <thead>\n",
       "    <tr style=\"text-align: right;\">\n",
       "      <th></th>\n",
       "      <th>grau_instrucao</th>\n",
       "      <th>nacionalidade</th>\n",
       "      <th>concorre_reeleicao</th>\n",
       "      <th>declara_bens</th>\n",
       "      <th>despesa_maxima_campanha</th>\n",
       "      <th>idade_data_posse</th>\n",
       "      <th>cor_raca_AMARELA</th>\n",
       "      <th>cor_raca_BRANCA</th>\n",
       "      <th>cor_raca_INDIGENA</th>\n",
       "      <th>cor_raca_PARDA</th>\n",
       "      <th>...</th>\n",
       "      <th>cargo_1o SUPLENTE SENADOR</th>\n",
       "      <th>cargo_2o SUPLENTE SENADOR</th>\n",
       "      <th>cargo_DEPUTADO DISTRITAL</th>\n",
       "      <th>cargo_DEPUTADO ESTADUAL</th>\n",
       "      <th>cargo_DEPUTADO FEDERAL</th>\n",
       "      <th>cargo_GOVERNADOR</th>\n",
       "      <th>cargo_PREFEITO</th>\n",
       "      <th>cargo_PRESIDENTE</th>\n",
       "      <th>cargo_SENADOR</th>\n",
       "      <th>cargo_VEREADOR</th>\n",
       "    </tr>\n",
       "  </thead>\n",
       "  <tbody>\n",
       "    <tr>\n",
       "      <th>0</th>\n",
       "      <td>6</td>\n",
       "      <td>1</td>\n",
       "      <td>0</td>\n",
       "      <td>0</td>\n",
       "      <td>400000.0</td>\n",
       "      <td>45.0</td>\n",
       "      <td>0</td>\n",
       "      <td>0</td>\n",
       "      <td>0</td>\n",
       "      <td>0</td>\n",
       "      <td>...</td>\n",
       "      <td>0</td>\n",
       "      <td>0</td>\n",
       "      <td>0</td>\n",
       "      <td>1</td>\n",
       "      <td>0</td>\n",
       "      <td>0</td>\n",
       "      <td>0</td>\n",
       "      <td>0</td>\n",
       "      <td>0</td>\n",
       "      <td>0</td>\n",
       "    </tr>\n",
       "    <tr>\n",
       "      <th>1</th>\n",
       "      <td>8</td>\n",
       "      <td>1</td>\n",
       "      <td>0</td>\n",
       "      <td>1</td>\n",
       "      <td>1000000.0</td>\n",
       "      <td>50.0</td>\n",
       "      <td>0</td>\n",
       "      <td>1</td>\n",
       "      <td>0</td>\n",
       "      <td>0</td>\n",
       "      <td>...</td>\n",
       "      <td>0</td>\n",
       "      <td>0</td>\n",
       "      <td>0</td>\n",
       "      <td>1</td>\n",
       "      <td>0</td>\n",
       "      <td>0</td>\n",
       "      <td>0</td>\n",
       "      <td>0</td>\n",
       "      <td>0</td>\n",
       "      <td>0</td>\n",
       "    </tr>\n",
       "    <tr>\n",
       "      <th>2</th>\n",
       "      <td>8</td>\n",
       "      <td>1</td>\n",
       "      <td>0</td>\n",
       "      <td>1</td>\n",
       "      <td>690000.0</td>\n",
       "      <td>48.0</td>\n",
       "      <td>0</td>\n",
       "      <td>0</td>\n",
       "      <td>0</td>\n",
       "      <td>1</td>\n",
       "      <td>...</td>\n",
       "      <td>0</td>\n",
       "      <td>0</td>\n",
       "      <td>0</td>\n",
       "      <td>1</td>\n",
       "      <td>0</td>\n",
       "      <td>0</td>\n",
       "      <td>0</td>\n",
       "      <td>0</td>\n",
       "      <td>0</td>\n",
       "      <td>0</td>\n",
       "    </tr>\n",
       "    <tr>\n",
       "      <th>3</th>\n",
       "      <td>6</td>\n",
       "      <td>1</td>\n",
       "      <td>0</td>\n",
       "      <td>1</td>\n",
       "      <td>500000.0</td>\n",
       "      <td>39.0</td>\n",
       "      <td>0</td>\n",
       "      <td>0</td>\n",
       "      <td>0</td>\n",
       "      <td>1</td>\n",
       "      <td>...</td>\n",
       "      <td>0</td>\n",
       "      <td>0</td>\n",
       "      <td>0</td>\n",
       "      <td>1</td>\n",
       "      <td>0</td>\n",
       "      <td>0</td>\n",
       "      <td>0</td>\n",
       "      <td>0</td>\n",
       "      <td>0</td>\n",
       "      <td>0</td>\n",
       "    </tr>\n",
       "    <tr>\n",
       "      <th>4</th>\n",
       "      <td>8</td>\n",
       "      <td>1</td>\n",
       "      <td>0</td>\n",
       "      <td>0</td>\n",
       "      <td>500000.0</td>\n",
       "      <td>40.0</td>\n",
       "      <td>0</td>\n",
       "      <td>0</td>\n",
       "      <td>0</td>\n",
       "      <td>1</td>\n",
       "      <td>...</td>\n",
       "      <td>0</td>\n",
       "      <td>0</td>\n",
       "      <td>0</td>\n",
       "      <td>1</td>\n",
       "      <td>0</td>\n",
       "      <td>0</td>\n",
       "      <td>0</td>\n",
       "      <td>0</td>\n",
       "      <td>0</td>\n",
       "      <td>0</td>\n",
       "    </tr>\n",
       "  </tbody>\n",
       "</table>\n",
       "<p>5 rows × 308 columns</p>\n",
       "</div>"
      ],
      "text/plain": [
       "   grau_instrucao  nacionalidade  concorre_reeleicao  declara_bens  \\\n",
       "0               6              1                   0             0   \n",
       "1               8              1                   0             1   \n",
       "2               8              1                   0             1   \n",
       "3               6              1                   0             1   \n",
       "4               8              1                   0             0   \n",
       "\n",
       "   despesa_maxima_campanha  idade_data_posse  cor_raca_AMARELA  \\\n",
       "0                 400000.0              45.0                 0   \n",
       "1                1000000.0              50.0                 0   \n",
       "2                 690000.0              48.0                 0   \n",
       "3                 500000.0              39.0                 0   \n",
       "4                 500000.0              40.0                 0   \n",
       "\n",
       "   cor_raca_BRANCA  cor_raca_INDIGENA  cor_raca_PARDA       ...        \\\n",
       "0                0                  0               0       ...         \n",
       "1                1                  0               0       ...         \n",
       "2                0                  0               1       ...         \n",
       "3                0                  0               1       ...         \n",
       "4                0                  0               1       ...         \n",
       "\n",
       "   cargo_1o SUPLENTE SENADOR  cargo_2o SUPLENTE SENADOR  \\\n",
       "0                          0                          0   \n",
       "1                          0                          0   \n",
       "2                          0                          0   \n",
       "3                          0                          0   \n",
       "4                          0                          0   \n",
       "\n",
       "   cargo_DEPUTADO DISTRITAL  cargo_DEPUTADO ESTADUAL  cargo_DEPUTADO FEDERAL  \\\n",
       "0                         0                        1                       0   \n",
       "1                         0                        1                       0   \n",
       "2                         0                        1                       0   \n",
       "3                         0                        1                       0   \n",
       "4                         0                        1                       0   \n",
       "\n",
       "   cargo_GOVERNADOR  cargo_PREFEITO  cargo_PRESIDENTE  cargo_SENADOR  \\\n",
       "0                 0               0                 0              0   \n",
       "1                 0               0                 0              0   \n",
       "2                 0               0                 0              0   \n",
       "3                 0               0                 0              0   \n",
       "4                 0               0                 0              0   \n",
       "\n",
       "   cargo_VEREADOR  \n",
       "0               0  \n",
       "1               0  \n",
       "2               0  \n",
       "3               0  \n",
       "4               0  \n",
       "\n",
       "[5 rows x 308 columns]"
      ]
     },
     "execution_count": 3,
     "metadata": {},
     "output_type": "execute_result"
    }
   ],
   "source": [
    "df_data = df_work.drop(['eleito'], axis=1)\n",
    "df_labels = df_work.loc[:,['eleito']].values.ravel()\n",
    "df_data.head()"
   ]
  },
  {
   "cell_type": "code",
   "execution_count": 4,
   "metadata": {},
   "outputs": [
    {
     "name": "stdout",
     "output_type": "stream",
     "text": [
      "Frequency of unique values of the said array:\n",
      "[[     0      1]\n",
      " [434685  66819]]\n"
     ]
    }
   ],
   "source": [
    "unique_elements, counts_elements = np.unique(df_labels, return_counts=True)\n",
    "print(\"Frequency of unique values of the said array:\")\n",
    "print(np.asarray((unique_elements, counts_elements)))"
   ]
  },
  {
   "cell_type": "code",
   "execution_count": 18,
   "metadata": {},
   "outputs": [
    {
     "name": "stderr",
     "output_type": "stream",
     "text": [
      "c:\\users\\yami_\\appdata\\local\\programs\\python\\python37\\lib\\site-packages\\sklearn\\preprocessing\\data.py:625: DataConversionWarning: Data with input dtype int64, float64 were all converted to float64 by StandardScaler.\n",
      "  return self.partial_fit(X, y)\n",
      "c:\\users\\yami_\\appdata\\local\\programs\\python\\python37\\lib\\site-packages\\sklearn\\base.py:462: DataConversionWarning: Data with input dtype int64, float64 were all converted to float64 by StandardScaler.\n",
      "  return self.fit(X, **fit_params).transform(X)\n"
     ]
    },
    {
     "data": {
      "text/html": [
       "<div>\n",
       "<style scoped>\n",
       "    .dataframe tbody tr th:only-of-type {\n",
       "        vertical-align: middle;\n",
       "    }\n",
       "\n",
       "    .dataframe tbody tr th {\n",
       "        vertical-align: top;\n",
       "    }\n",
       "\n",
       "    .dataframe thead th {\n",
       "        text-align: right;\n",
       "    }\n",
       "</style>\n",
       "<table border=\"1\" class=\"dataframe\">\n",
       "  <thead>\n",
       "    <tr style=\"text-align: right;\">\n",
       "      <th></th>\n",
       "      <th>grau_instrucao</th>\n",
       "      <th>nacionalidade</th>\n",
       "      <th>concorre_reeleicao</th>\n",
       "      <th>declara_bens</th>\n",
       "      <th>despesa_maxima_campanha</th>\n",
       "      <th>idade_data_posse</th>\n",
       "      <th>cor_raca_AMARELA</th>\n",
       "      <th>cor_raca_BRANCA</th>\n",
       "      <th>cor_raca_INDIGENA</th>\n",
       "      <th>cor_raca_PARDA</th>\n",
       "      <th>...</th>\n",
       "      <th>cargo_1o SUPLENTE SENADOR</th>\n",
       "      <th>cargo_2o SUPLENTE SENADOR</th>\n",
       "      <th>cargo_DEPUTADO DISTRITAL</th>\n",
       "      <th>cargo_DEPUTADO ESTADUAL</th>\n",
       "      <th>cargo_DEPUTADO FEDERAL</th>\n",
       "      <th>cargo_GOVERNADOR</th>\n",
       "      <th>cargo_PREFEITO</th>\n",
       "      <th>cargo_PRESIDENTE</th>\n",
       "      <th>cargo_SENADOR</th>\n",
       "      <th>cargo_VEREADOR</th>\n",
       "    </tr>\n",
       "  </thead>\n",
       "  <tbody>\n",
       "    <tr>\n",
       "      <th>0</th>\n",
       "      <td>0.186152</td>\n",
       "      <td>-0.05375</td>\n",
       "      <td>-0.325391</td>\n",
       "      <td>-1.351565</td>\n",
       "      <td>0.213799</td>\n",
       "      <td>0.008173</td>\n",
       "      <td>-0.066394</td>\n",
       "      <td>-1.032355</td>\n",
       "      <td>-0.058613</td>\n",
       "      <td>-0.795980</td>\n",
       "      <td>...</td>\n",
       "      <td>-0.031177</td>\n",
       "      <td>-0.031209</td>\n",
       "      <td>-0.061636</td>\n",
       "      <td>3.914173</td>\n",
       "      <td>-0.167636</td>\n",
       "      <td>-0.026653</td>\n",
       "      <td>-0.180196</td>\n",
       "      <td>-0.0072</td>\n",
       "      <td>-0.031209</td>\n",
       "      <td>-2.615722</td>\n",
       "    </tr>\n",
       "    <tr>\n",
       "      <th>1</th>\n",
       "      <td>1.313575</td>\n",
       "      <td>-0.05375</td>\n",
       "      <td>-0.325391</td>\n",
       "      <td>0.739883</td>\n",
       "      <td>0.678450</td>\n",
       "      <td>0.442036</td>\n",
       "      <td>-0.066394</td>\n",
       "      <td>0.968659</td>\n",
       "      <td>-0.058613</td>\n",
       "      <td>-0.795980</td>\n",
       "      <td>...</td>\n",
       "      <td>-0.031177</td>\n",
       "      <td>-0.031209</td>\n",
       "      <td>-0.061636</td>\n",
       "      <td>3.914173</td>\n",
       "      <td>-0.167636</td>\n",
       "      <td>-0.026653</td>\n",
       "      <td>-0.180196</td>\n",
       "      <td>-0.0072</td>\n",
       "      <td>-0.031209</td>\n",
       "      <td>-2.615722</td>\n",
       "    </tr>\n",
       "    <tr>\n",
       "      <th>2</th>\n",
       "      <td>1.313575</td>\n",
       "      <td>-0.05375</td>\n",
       "      <td>-0.325391</td>\n",
       "      <td>0.739883</td>\n",
       "      <td>0.438381</td>\n",
       "      <td>0.268490</td>\n",
       "      <td>-0.066394</td>\n",
       "      <td>-1.032355</td>\n",
       "      <td>-0.058613</td>\n",
       "      <td>1.256312</td>\n",
       "      <td>...</td>\n",
       "      <td>-0.031177</td>\n",
       "      <td>-0.031209</td>\n",
       "      <td>-0.061636</td>\n",
       "      <td>3.914173</td>\n",
       "      <td>-0.167636</td>\n",
       "      <td>-0.026653</td>\n",
       "      <td>-0.180196</td>\n",
       "      <td>-0.0072</td>\n",
       "      <td>-0.031209</td>\n",
       "      <td>-2.615722</td>\n",
       "    </tr>\n",
       "    <tr>\n",
       "      <th>3</th>\n",
       "      <td>0.186152</td>\n",
       "      <td>-0.05375</td>\n",
       "      <td>-0.325391</td>\n",
       "      <td>0.739883</td>\n",
       "      <td>0.291241</td>\n",
       "      <td>-0.512463</td>\n",
       "      <td>-0.066394</td>\n",
       "      <td>-1.032355</td>\n",
       "      <td>-0.058613</td>\n",
       "      <td>1.256312</td>\n",
       "      <td>...</td>\n",
       "      <td>-0.031177</td>\n",
       "      <td>-0.031209</td>\n",
       "      <td>-0.061636</td>\n",
       "      <td>3.914173</td>\n",
       "      <td>-0.167636</td>\n",
       "      <td>-0.026653</td>\n",
       "      <td>-0.180196</td>\n",
       "      <td>-0.0072</td>\n",
       "      <td>-0.031209</td>\n",
       "      <td>-2.615722</td>\n",
       "    </tr>\n",
       "    <tr>\n",
       "      <th>4</th>\n",
       "      <td>1.313575</td>\n",
       "      <td>-0.05375</td>\n",
       "      <td>-0.325391</td>\n",
       "      <td>-1.351565</td>\n",
       "      <td>0.291241</td>\n",
       "      <td>-0.425690</td>\n",
       "      <td>-0.066394</td>\n",
       "      <td>-1.032355</td>\n",
       "      <td>-0.058613</td>\n",
       "      <td>1.256312</td>\n",
       "      <td>...</td>\n",
       "      <td>-0.031177</td>\n",
       "      <td>-0.031209</td>\n",
       "      <td>-0.061636</td>\n",
       "      <td>3.914173</td>\n",
       "      <td>-0.167636</td>\n",
       "      <td>-0.026653</td>\n",
       "      <td>-0.180196</td>\n",
       "      <td>-0.0072</td>\n",
       "      <td>-0.031209</td>\n",
       "      <td>-2.615722</td>\n",
       "    </tr>\n",
       "  </tbody>\n",
       "</table>\n",
       "<p>5 rows × 308 columns</p>\n",
       "</div>"
      ],
      "text/plain": [
       "   grau_instrucao  nacionalidade  concorre_reeleicao  declara_bens  \\\n",
       "0        0.186152       -0.05375           -0.325391     -1.351565   \n",
       "1        1.313575       -0.05375           -0.325391      0.739883   \n",
       "2        1.313575       -0.05375           -0.325391      0.739883   \n",
       "3        0.186152       -0.05375           -0.325391      0.739883   \n",
       "4        1.313575       -0.05375           -0.325391     -1.351565   \n",
       "\n",
       "   despesa_maxima_campanha  idade_data_posse  cor_raca_AMARELA  \\\n",
       "0                 0.213799          0.008173         -0.066394   \n",
       "1                 0.678450          0.442036         -0.066394   \n",
       "2                 0.438381          0.268490         -0.066394   \n",
       "3                 0.291241         -0.512463         -0.066394   \n",
       "4                 0.291241         -0.425690         -0.066394   \n",
       "\n",
       "   cor_raca_BRANCA  cor_raca_INDIGENA  cor_raca_PARDA       ...        \\\n",
       "0        -1.032355          -0.058613       -0.795980       ...         \n",
       "1         0.968659          -0.058613       -0.795980       ...         \n",
       "2        -1.032355          -0.058613        1.256312       ...         \n",
       "3        -1.032355          -0.058613        1.256312       ...         \n",
       "4        -1.032355          -0.058613        1.256312       ...         \n",
       "\n",
       "   cargo_1o SUPLENTE SENADOR  cargo_2o SUPLENTE SENADOR  \\\n",
       "0                  -0.031177                  -0.031209   \n",
       "1                  -0.031177                  -0.031209   \n",
       "2                  -0.031177                  -0.031209   \n",
       "3                  -0.031177                  -0.031209   \n",
       "4                  -0.031177                  -0.031209   \n",
       "\n",
       "   cargo_DEPUTADO DISTRITAL  cargo_DEPUTADO ESTADUAL  cargo_DEPUTADO FEDERAL  \\\n",
       "0                 -0.061636                 3.914173               -0.167636   \n",
       "1                 -0.061636                 3.914173               -0.167636   \n",
       "2                 -0.061636                 3.914173               -0.167636   \n",
       "3                 -0.061636                 3.914173               -0.167636   \n",
       "4                 -0.061636                 3.914173               -0.167636   \n",
       "\n",
       "   cargo_GOVERNADOR  cargo_PREFEITO  cargo_PRESIDENTE  cargo_SENADOR  \\\n",
       "0         -0.026653       -0.180196           -0.0072      -0.031209   \n",
       "1         -0.026653       -0.180196           -0.0072      -0.031209   \n",
       "2         -0.026653       -0.180196           -0.0072      -0.031209   \n",
       "3         -0.026653       -0.180196           -0.0072      -0.031209   \n",
       "4         -0.026653       -0.180196           -0.0072      -0.031209   \n",
       "\n",
       "   cargo_VEREADOR  \n",
       "0       -2.615722  \n",
       "1       -2.615722  \n",
       "2       -2.615722  \n",
       "3       -2.615722  \n",
       "4       -2.615722  \n",
       "\n",
       "[5 rows x 308 columns]"
      ]
     },
     "execution_count": 18,
     "metadata": {},
     "output_type": "execute_result"
    }
   ],
   "source": [
    "np_scaled = StandardScaler().fit_transform(df_data)\n",
    "df_scaled = pd.DataFrame(np_scaled, index=df_data.index, columns=df_data.columns)\n",
    "df_scaled.head()"
   ]
  },
  {
   "cell_type": "code",
   "execution_count": 19,
   "metadata": {},
   "outputs": [],
   "source": [
    "data_train, data_test, labels_train, labels_test = train_test_split(df_scaled, df_labels, test_size=0.2)"
   ]
  },
  {
   "cell_type": "code",
   "execution_count": 20,
   "metadata": {},
   "outputs": [
    {
     "name": "stdout",
     "output_type": "stream",
     "text": [
      "0.009387037377342658\n",
      "0.007971408544608411\n"
     ]
    }
   ],
   "source": [
    "pca = decomposition.PCA(n_components=2)\n",
    "pca_columns=['Component_1', 'Component_2']\n",
    "\n",
    "data_train_pca = pd.DataFrame(pca.fit_transform(data_train), index=data_train.index, columns=pca_columns)\n",
    "data_test_pca = pd.DataFrame(pca.transform(data_test), index=data_test.index, columns=pca_columns)\n",
    "\n",
    "print(pca.explained_variance_ratio_[0])\n",
    "print(pca.explained_variance_ratio_[1])"
   ]
  },
  {
   "cell_type": "markdown",
   "metadata": {},
   "source": [
    "## Multilayer Perceptron"
   ]
  },
  {
   "cell_type": "code",
   "execution_count": 33,
   "metadata": {},
   "outputs": [],
   "source": [
    "mlpc = MLPClassifier(solver='lbfgs', alpha=1e-5, hidden_layer_sizes=(5, 2), random_state=1)\n",
    "mlpc.fit(data_train_pca, labels_train)\n",
    "mlpc_pred = mlpc.predict(data_test_pca)\n",
    "mlpc_proba = mlpc.predict_proba(data_test_pca)"
   ]
  },
  {
   "cell_type": "code",
   "execution_count": 10,
   "metadata": {},
   "outputs": [
    {
     "name": "stdout",
     "output_type": "stream",
     "text": [
      "Frequency of unique values of the said array:\n",
      "[[    0     1]\n",
      " [95853  4448]]\n"
     ]
    }
   ],
   "source": [
    "unique_elements, counts_elements = np.unique(mlpc_pred, return_counts=True)\n",
    "print(\"Frequency of unique values of the said array:\")\n",
    "print(np.asarray((unique_elements, counts_elements)))"
   ]
  },
  {
   "cell_type": "code",
   "execution_count": 12,
   "metadata": {},
   "outputs": [
    {
     "name": "stdout",
     "output_type": "stream",
     "text": [
      "Accuracy is 87.00312060697301%\n",
      "Precision is 71.34319832012703%\n",
      "Recall is 57.81152785504741%\n",
      "F-1 is 59.92611462810486%\n",
      "[[84856  2039]\n",
      " [10997  2409]]\n"
     ]
    }
   ],
   "source": [
    "mlpc_accuracy = accuracy_score(labels_test, mlpc_pred)\n",
    "mlpc_precision = precision_score(labels_test, mlpc_pred, average='macro')\n",
    "mlpc_recall = recall_score(labels_test, mlpc_pred, average='macro')\n",
    "mlpc_f1 = f1_score(labels_test, mlpc_pred, average='macro')\n",
    "mlpc_cm = confusion_matrix(labels_test, mlpc_pred)\n",
    "\n",
    "print(\"Accuracy is {}%\".format(mlpc_accuracy * 100))\n",
    "print(\"Precision is {}%\".format(mlpc_precision * 100))\n",
    "print(\"Recall is {}%\".format(mlpc_recall * 100))\n",
    "print(\"F-1 is {}%\".format(mlpc_f1 * 100))\n",
    "print(mlpc_cm)"
   ]
  },
  {
   "cell_type": "code",
   "execution_count": 37,
   "metadata": {},
   "outputs": [
    {
     "data": {
      "text/plain": [
       "[<matplotlib.lines.Line2D at 0x255a02f70b8>]"
      ]
     },
     "execution_count": 37,
     "metadata": {},
     "output_type": "execute_result"
    },
    {
     "data": {
      "image/png": "[encoded data removed]",
      "text/plain": [
       "<Figure size 432x288 with 1 Axes>"
      ]
     },
     "metadata": {
      "needs_background": "light"
     },
     "output_type": "display_data"
    }
   ],
   "source": [
    "p, r, t = precision_recall_curve(labels_train, mlpc.predict_proba(data_train_pca)[:,1])\n",
    "plt.plot(t,r[1:])\n",
    "plt.plot(t,p[1:])"
   ]
  },
  {
   "cell_type": "code",
   "execution_count": 35,
   "metadata": {},
   "outputs": [
    {
     "name": "stdout",
     "output_type": "stream",
     "text": [
      "Accuracy is 83.64622486316188%\n",
      "Precision is 63.91167414314777%\n",
      "Recall is 63.05678030400398%\n",
      "F-1 is 63.4577661448174%\n",
      "[[79225  7723]\n",
      " [ 8680  4673]]\n"
     ]
    }
   ],
   "source": [
    "mlpcp_accuracy = accuracy_score(labels_test, mlpc_proba[:,1] > 0.19)\n",
    "mlpcp_precision = precision_score(labels_test, mlpc_proba[:,1] > 0.19, average='macro')\n",
    "mlpcp_recall = recall_score(labels_test, mlpc_proba[:,1] > 0.19, average='macro')\n",
    "mlpcp_f1 = f1_score(labels_test, mlpc_proba[:,1] > 0.19, average='macro')\n",
    "mlpcp_cm = confusion_matrix(labels_test, mlpc_proba[:,1] > 0.19)\n",
    "\n",
    "print(\"Accuracy is {}%\".format(mlpcp_accuracy * 100))\n",
    "print(\"Precision is {}%\".format(mlpcp_precision * 100))\n",
    "print(\"Recall is {}%\".format(mlpcp_recall * 100))\n",
    "print(\"F-1 is {}%\".format(mlpcp_f1 * 100))\n",
    "print(mlpcp_cm)"
   ]
  },
  {
   "cell_type": "markdown",
   "metadata": {},
   "source": [
    "## Random Forest Classifier"
   ]
  },
  {
   "cell_type": "code",
   "execution_count": 30,
   "metadata": {},
   "outputs": [],
   "source": [
    "rfc = RandomForestClassifier(n_estimators=100, max_depth=5, random_state=0)\n",
    "rfc.fit(data_train_pca, labels_train)\n",
    "rfc_pred = rfc.predict(data_test_pca)\n",
    "rfc_proba = rfc.predict_proba(data_test_pca)"
   ]
  },
  {
   "cell_type": "code",
   "execution_count": 9,
   "metadata": {},
   "outputs": [
    {
     "name": "stdout",
     "output_type": "stream",
     "text": [
      "Frequency of unique values of the said array:\n",
      "[[    0     1]\n",
      " [97699  2602]]\n"
     ]
    }
   ],
   "source": [
    "unique_elements, counts_elements = np.unique(rfc_pred, return_counts=True)\n",
    "print(\"Frequency of unique values of the said array:\")\n",
    "print(np.asarray((unique_elements, counts_elements)))"
   ]
  },
  {
   "cell_type": "code",
   "execution_count": 10,
   "metadata": {},
   "outputs": [
    {
     "name": "stdout",
     "output_type": "stream",
     "text": [
      "Accuracy is 86.96822564082113%\n",
      "Precision is 72.26833815817567%\n",
      "Recall is 54.85429107029576%\n",
      "F-1 is 55.67604998288578%\n",
      "[[85753  1125]\n",
      " [11946  1477]]\n"
     ]
    }
   ],
   "source": [
    "rfc_accuracy = accuracy_score(labels_test, rfc_pred)\n",
    "rfc_precision = precision_score(labels_test, rfc_pred, average='macro')\n",
    "rfc_recall = recall_score(labels_test, rfc_pred, average='macro')\n",
    "rfc_f1 = f1_score(labels_test, rfc_pred, average='macro')\n",
    "rfc_cm = confusion_matrix(labels_test, rfc_pred)\n",
    "\n",
    "print(\"Accuracy is {}%\".format(rfc_accuracy * 100))\n",
    "print(\"Precision is {}%\".format(rfc_precision * 100))\n",
    "print(\"Recall is {}%\".format(rfc_recall * 100))\n",
    "print(\"F-1 is {}%\".format(rfc_f1 * 100))\n",
    "print(rfc_cm)"
   ]
  },
  {
   "cell_type": "code",
   "execution_count": 31,
   "metadata": {},
   "outputs": [
    {
     "data": {
      "text/plain": [
       "[<matplotlib.lines.Line2D at 0x255ea1b4668>]"
      ]
     },
     "execution_count": 31,
     "metadata": {},
     "output_type": "execute_result"
    },
    {
     "data": {
      "image/png": "[encoded data removed]",
      "text/plain": [
       "<Figure size 432x288 with 1 Axes>"
      ]
     },
     "metadata": {
      "needs_background": "light"
     },
     "output_type": "display_data"
    }
   ],
   "source": [
    "p, r, t = precision_recall_curve(labels_train, rfc.predict_proba(data_train_pca)[:,1])\n",
    "plt.plot(t,r[1:])\n",
    "plt.plot(t,p[1:])"
   ]
  },
  {
   "cell_type": "code",
   "execution_count": 32,
   "metadata": {},
   "outputs": [
    {
     "name": "stdout",
     "output_type": "stream",
     "text": [
      "Accuracy is 82.97025951884827%\n",
      "Precision is 63.25464169097397%\n",
      "Recall is 63.418044763189464%\n",
      "F-1 is 63.335327300201016%\n",
      "[[78310  8638]\n",
      " [ 8443  4910]]\n"
     ]
    }
   ],
   "source": [
    "rfcp_accuracy = accuracy_score(labels_test, rfc_proba[:,1] > 0.18)\n",
    "rfcp_precision = precision_score(labels_test, rfc_proba[:,1] > 0.18, average='macro')\n",
    "rfcp_recall = recall_score(labels_test, rfc_proba[:,1] > 0.18, average='macro')\n",
    "rfcp_f1 = f1_score(labels_test, rfc_proba[:,1] > 0.18, average='macro')\n",
    "rfcp_cm = confusion_matrix(labels_test, rfc_proba[:,1] > 0.18)\n",
    "\n",
    "print(\"Accuracy is {}%\".format(rfcp_accuracy * 100))\n",
    "print(\"Precision is {}%\".format(rfcp_precision * 100))\n",
    "print(\"Recall is {}%\".format(rfcp_recall * 100))\n",
    "print(\"F-1 is {}%\".format(rfcp_f1 * 100))\n",
    "print(rfcp_cm)"
   ]
  },
  {
   "cell_type": "markdown",
   "metadata": {},
   "source": [
    "## Logistic Regression"
   ]
  },
  {
   "cell_type": "code",
   "execution_count": 23,
   "metadata": {},
   "outputs": [],
   "source": [
    "lrc = LogisticRegression(solver='lbfgs')\n",
    "lrc.fit(data_train_pca, labels_train)\n",
    "lrc_pred = lrc.predict(data_test_pca)\n",
    "lrc_proba = lrc.predict_proba(data_test_pca)"
   ]
  },
  {
   "cell_type": "code",
   "execution_count": 24,
   "metadata": {},
   "outputs": [
    {
     "name": "stdout",
     "output_type": "stream",
     "text": [
      "Frequency of unique values of the said array:\n",
      "[[     0      1]\n",
      " [100027    274]]\n"
     ]
    }
   ],
   "source": [
    "unique_elements, counts_elements = np.unique(lrc_pred, return_counts=True)\n",
    "print(\"Frequency of unique values of the said array:\")\n",
    "print(np.asarray((unique_elements, counts_elements)))"
   ]
  },
  {
   "cell_type": "code",
   "execution_count": 25,
   "metadata": {},
   "outputs": [
    {
     "name": "stdout",
     "output_type": "stream",
     "text": [
      "Accuracy is 86.68108991934278%\n",
      "Precision is 67.84483882782307%\n",
      "Recall is 50.4212520143682%\n",
      "F-1 is 47.41093916713036%\n",
      "[[86808   140]\n",
      " [13219   134]]\n"
     ]
    }
   ],
   "source": [
    "lrc_accuracy = accuracy_score(labels_test, lrc_pred)\n",
    "lrc_precision = precision_score(labels_test, lrc_pred, average='macro')\n",
    "lrc_recall = recall_score(labels_test, lrc_pred, average='macro')\n",
    "lrc_f1 = f1_score(labels_test, lrc_pred, average='macro')\n",
    "lrc_cm = confusion_matrix(labels_test, lrc_pred)\n",
    "\n",
    "print(\"Accuracy is {}%\".format(lrc_accuracy * 100))\n",
    "print(\"Precision is {}%\".format(lrc_precision * 100))\n",
    "print(\"Recall is {}%\".format(lrc_recall * 100))\n",
    "print(\"F-1 is {}%\".format(lrc_f1 * 100))\n",
    "print(lrc_cm)"
   ]
  },
  {
   "cell_type": "code",
   "execution_count": 28,
   "metadata": {},
   "outputs": [
    {
     "data": {
      "text/plain": [
       "[<matplotlib.lines.Line2D at 0x2559fdcec50>]"
      ]
     },
     "execution_count": 28,
     "metadata": {},
     "output_type": "execute_result"
    },
    {
     "data": {
      "image/png": "[encoded data removed]",
      "text/plain": [
       "<Figure size 432x288 with 1 Axes>"
      ]
     },
     "metadata": {
      "needs_background": "light"
     },
     "output_type": "display_data"
    }
   ],
   "source": [
    "p, r, t = precision_recall_curve(labels_train, lrc.predict_proba(data_train_pca)[:,1])\n",
    "plt.plot(t,r[1:])\n",
    "plt.plot(t,p[1:])"
   ]
  },
  {
   "cell_type": "code",
   "execution_count": 29,
   "metadata": {},
   "outputs": [
    {
     "name": "stdout",
     "output_type": "stream",
     "text": [
      "Accuracy is 83.9572885614301%\n",
      "Precision is 64.27362362179683%\n",
      "Recall is 62.91608641228058%\n",
      "F-1 is 63.529886395260846%\n",
      "[[79638  7310]\n",
      " [ 8781  4572]]\n"
     ]
    }
   ],
   "source": [
    "lrcp_accuracy = accuracy_score(labels_test, lrc_proba[:,1] > 0.25)\n",
    "lrcp_precision = precision_score(labels_test, lrc_proba[:,1] > 0.25, average='macro')\n",
    "lrcp_recall = recall_score(labels_test, lrc_proba[:,1] > 0.25, average='macro')\n",
    "lrcp_f1 = f1_score(labels_test, lrc_proba[:,1] > 0.25, average='macro')\n",
    "lrcp_cm = confusion_matrix(labels_test, lrc_proba[:,1] > 0.25)\n",
    "\n",
    "print(\"Accuracy is {}%\".format(lrcp_accuracy * 100))\n",
    "print(\"Precision is {}%\".format(lrcp_precision * 100))\n",
    "print(\"Recall is {}%\".format(lrcp_recall * 100))\n",
    "print(\"F-1 is {}%\".format(lrcp_f1 * 100))\n",
    "print(lrcp_cm)"
   ]
  },
  {
   "cell_type": "code",
   "execution_count": null,
   "metadata": {},
   "outputs": [],
   "source": []
  }
 ],
 "metadata": {
  "kernelspec": {
   "display_name": "Python 3",
   "language": "python",
   "name": "python3"
  },
  "language_info": {
   "codemirror_mode": {
    "name": "ipython",
    "version": 3
   },
   "file_extension": ".py",
   "mimetype": "text/x-python",
   "name": "python",
   "nbconvert_exporter": "python",
   "pygments_lexer": "ipython3",
   "version": "3.7.0"
  }
 },
 "nbformat": 4,
 "nbformat_minor": 2
}
